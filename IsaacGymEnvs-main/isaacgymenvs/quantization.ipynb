{
 "cells": [
  {
   "cell_type": "code",
   "execution_count": 3,
   "metadata": {},
   "outputs": [],
   "source": [
    "import argparse\n",
    "import numpy as np\n",
    "import onnxruntime\n",
    "import time\n",
    "from onnxruntime.quantization import QuantFormat, QuantType, quantize_static"
   ]
  },
  {
   "cell_type": "code",
   "execution_count": 4,
   "metadata": {},
   "outputs": [],
   "source": [
    "def benchmark(model_path):\n",
    "    session = onnxruntime.InferenceSession(model_path)\n",
    "    input_name = session.get_inputs()[0].name\n",
    "\n",
    "    total = 0.0\n",
    "    runs = 10\n",
    "    input_data = np.zeros((1, 3, 224, 224), np.float32)\n",
    "    # Warming up\n",
    "    _ = session.run([], {input_name: input_data})\n",
    "    for i in range(runs):\n",
    "        start = time.perf_counter()\n",
    "        _ = session.run([], {input_name: input_data})\n",
    "        end = (time.perf_counter() - start) * 1000\n",
    "        total += end\n",
    "        print(f\"{end:.2f}ms\")\n",
    "    total /= runs\n",
    "    print(f\"Avg: {total:.2f}ms\")"
   ]
  },
  {
   "cell_type": "code",
   "execution_count": 5,
   "metadata": {},
   "outputs": [],
   "source": [
    "def get_args():\n",
    "    parser = argparse.ArgumentParser()\n",
    "    parser.add_argument(\"--input_model\", required=True, help=\"input model\")\n",
    "    parser.add_argument(\"--output_model\", required=True, help=\"output model\")\n",
    "    parser.add_argument(\n",
    "        \"--calibrate_dataset\", default=\"./test_images\", help=\"calibration data set\"\n",
    "    )\n",
    "    parser.add_argument(\n",
    "        \"--quant_format\",\n",
    "        default=QuantFormat.QDQ,\n",
    "        type=QuantFormat.from_string,\n",
    "        choices=list(QuantFormat),\n",
    "    )\n",
    "    parser.add_argument(\"--per_channel\", default=False, type=bool)\n",
    "    args = parser.parse_args()\n",
    "    return args"
   ]
  },
  {
   "cell_type": "code",
   "execution_count": null,
   "metadata": {},
   "outputs": [],
   "source": [
    "def main():\n",
    "    args = get_args()\n",
    "    input_model_path = args.input_model\n",
    "    output_model_path = args.output_model\n",
    "    calibration_dataset_path = args.calibrate_dataset\n",
    "    dr = resnet50_data_reader.ResNet50DataReader(\n",
    "        calibration_dataset_path, input_model_path\n",
    "    )\n",
    "\n",
    "    # Calibrate and quantize model\n",
    "    # Turn off model optimization during quantization\n",
    "    quantize_static(\n",
    "        input_model_path,\n",
    "        output_model_path,\n",
    "        dr,\n",
    "        quant_format=args.quant_format,\n",
    "        per_channel=args.per_channel,\n",
    "        weight_type=QuantType.QInt8,\n",
    "        optimize_model=False,\n",
    "    )\n",
    "    print(\"Calibrated and quantized model saved.\")\n",
    "\n",
    "    print(\"benchmarking fp32 model...\")\n",
    "    benchmark(input_model_path)\n",
    "\n",
    "    print(\"benchmarking int8 model...\")\n",
    "    benchmark(output_model_path)"
   ]
  }
 ],
 "metadata": {
  "kernelspec": {
   "display_name": "rl4",
   "language": "python",
   "name": "python3"
  },
  "language_info": {
   "codemirror_mode": {
    "name": "ipython",
    "version": 3
   },
   "file_extension": ".py",
   "mimetype": "text/x-python",
   "name": "python",
   "nbconvert_exporter": "python",
   "pygments_lexer": "ipython3",
   "version": "3.7.15"
  },
  "orig_nbformat": 4,
  "vscode": {
   "interpreter": {
    "hash": "042d7a75c4dc00334a9bf973dfa1ee6dabf84df8a4c73c3f235dd3948ef29a51"
   }
  }
 },
 "nbformat": 4,
 "nbformat_minor": 2
}
